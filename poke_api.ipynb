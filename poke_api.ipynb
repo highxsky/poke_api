{
 "cells": [
  {
   "cell_type": "code",
   "execution_count": 1,
   "id": "0f855603",
   "metadata": {},
   "outputs": [],
   "source": [
    "# library to send requests to APIs\n",
    "import requests"
   ]
  },
  {
   "cell_type": "code",
   "execution_count": 2,
   "id": "35b89130",
   "metadata": {},
   "outputs": [],
   "source": [
    "# we are querying a REST API\n",
    "    # it means REpresentational State Transfer (REST)\n",
    "    # which is an standard architecture for APIs\n",
    "    # for more info, check https://www.datacamp.com/tutorial/making-http-requests-in-python\n",
    "\n",
    "root_url = 'https://pokeapi.co/api/v2/'\n",
    "endpoint = 'pokemon/ditto'\n",
    "url_ep = root_url + endpoint\n",
    "\n",
    "# we send a GET request (as in \"get data\") and store the response in a variable\n",
    "response = requests.get(url_ep).json()"
   ]
  },
  {
   "cell_type": "code",
   "execution_count": 4,
   "id": "833796eb",
   "metadata": {},
   "outputs": [
    {
     "name": "stdout",
     "output_type": "stream",
     "text": [
      "name: ditto\n",
      "height: 3\n",
      "weight: 40\n"
     ]
    }
   ],
   "source": [
    "# it is possible to navigate the JSON array to access a specific data point\n",
    "# here, we get the name, height and weight of the pokemon Ditto\n",
    "\n",
    "data_required = [\"name\", \"height\", \"weight\"]\n",
    "\n",
    "for data in data_required:\n",
    "    print(f\"{data}: {response[data]}\")\n"
   ]
  },
  {
   "cell_type": "code",
   "execution_count": null,
   "id": "deda25b8",
   "metadata": {},
   "outputs": [],
   "source": [
    "# there are other methods, of which most frequently used:\n",
    "    # GET: fetch data\n",
    "    # POST: create/send data\n",
    "    # PUT: update existing data\n",
    "    # PATCH: partially update existing data\n",
    "    # DELETE: delete data\n",
    "# the PokeAPI is a consumption API, so only GET requests are avaiable"
   ]
  }
 ],
 "metadata": {
  "kernelspec": {
   "display_name": "Python 3",
   "language": "python",
   "name": "python3"
  },
  "language_info": {
   "codemirror_mode": {
    "name": "ipython",
    "version": 3
   },
   "file_extension": ".py",
   "mimetype": "text/x-python",
   "name": "python",
   "nbconvert_exporter": "python",
   "pygments_lexer": "ipython3",
   "version": "3.13.2"
  }
 },
 "nbformat": 4,
 "nbformat_minor": 5
}
