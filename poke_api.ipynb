{
 "cells": [
  {
   "cell_type": "markdown",
   "id": "88eb845f",
   "metadata": {},
   "source": [
    "The PokeAPI is a REST API that is public.\n",
    "<br>It is a consumption only API, hence we can only send \"get\" requests to the API.\n",
    "\n",
    "A good resource on APIs --> https://www.datacamp.com/tutorial/making-http-requests-in-python"
   ]
  },
  {
   "cell_type": "code",
   "execution_count": 91,
   "id": "0f855603",
   "metadata": {},
   "outputs": [],
   "source": [
    "import requests\n",
    "import json"
   ]
  },
  {
   "cell_type": "markdown",
   "id": "cd9d68f2",
   "metadata": {},
   "source": [
    "# The basics\n",
    "\n",
    "Identify an endpoint, send a get request and store the data in a variable"
   ]
  },
  {
   "cell_type": "code",
   "execution_count": 92,
   "id": "35b89130",
   "metadata": {},
   "outputs": [],
   "source": [
    "# restaurant analogy: an API is a menu, the endpoints are the menu items (fries, ribs...)\n",
    "# we \"request\" something to the waiter by sending a request (e.g. \"get\" the following data)\n",
    "# and we get a \"response\" (e.g. data shared with us)\n",
    "\n",
    "# an endpoint is a URL that serves as an access point for data\n",
    "root_url = 'https://pokeapi.co/api/v2/'\n",
    "endpoint = 'pokemon/charmander'\n",
    "url_ep = root_url + endpoint\n",
    "\n",
    "# we send a GET request (as in \"get data\") and store the response in a variable\n",
    "response = requests.get(url_ep)\n",
    "data = response.json()"
   ]
  },
  {
   "cell_type": "markdown",
   "id": "624be9df",
   "metadata": {},
   "source": [
    "# Still the basics\n",
    "\n",
    "Extract specific data points from the API response"
   ]
  },
  {
   "cell_type": "code",
   "execution_count": 93,
   "id": "833796eb",
   "metadata": {},
   "outputs": [
    {
     "name": "stdout",
     "output_type": "stream",
     "text": [
      "name: Charmander\n",
      "height: 6\n",
      "weight: 85\n"
     ]
    }
   ],
   "source": [
    "# it is possible to navigate the JSON array to access a specific data point\n",
    "# here, we get the name, height and weight of the pokemon Charmander\n",
    "\n",
    "item_required = [\"name\", \"height\", \"weight\"]\n",
    "\n",
    "for item in item_required:\n",
    "    value = data[item]\n",
    "    if item == \"name\":\n",
    "        value = value.capitalize()\n",
    "    print(f\"{item}: {value}\")"
   ]
  },
  {
   "cell_type": "markdown",
   "id": "c2665b39",
   "metadata": {},
   "source": [
    "# More advanced\n",
    "\n",
    "Extract data points that are \"harder to reach\":\n",
    "- by navigating the JSON response\n",
    "- by using the JSON response to access other endpoints\n",
    "- tbd"
   ]
  },
  {
   "cell_type": "code",
   "execution_count": 94,
   "id": "d89dad17",
   "metadata": {},
   "outputs": [
    {
     "name": "stdout",
     "output_type": "stream",
     "text": [
      "in Pokemon red-blue, move slash is learned at level 30!\n"
     ]
    }
   ],
   "source": [
    "# challenge 1: finding at which level the move \"Slash\" is learned in pokemon Red/Blue\n",
    "\n",
    "# for this, we need to loop through each move and each game version\n",
    "# and then through each generation for the move we want to analyze\n",
    "\n",
    "# we use break to optimize performances\n",
    "# it stops once the data required is found, thus it is unlikely we will process all of the data\n",
    "# note that it works here because each move and generation is unique, so we can break once we find what we need\n",
    "\n",
    "# first we loop through each move until we find \"slash\"\n",
    "for move in data[\"moves\"]:\n",
    "    if move[\"move\"][\"name\"] == \"slash\":\n",
    "        # then we loop on each version group until we find \"red/blue\" (gen 1)\n",
    "        for detail in move[\"version_group_details\"]:\n",
    "            if detail[\"version_group\"][\"name\"] == \"red-blue\":\n",
    "                # and we store the results\n",
    "                result = detail\n",
    "                print(f\"in Pokemon {detail[\"version_group\"][\"name\"]}, move {move[\"move\"][\"name\"]} is learned at level {result[\"level_learned_at\"]}!\")\n",
    "                break\n",
    "        break"
   ]
  },
  {
   "cell_type": "code",
   "execution_count": null,
   "id": "e02c67e6",
   "metadata": {},
   "outputs": [],
   "source": [
    "# challenge 2: finding all first generation (red, blue, yellow) pokemons that learn the move \"slash\"\n",
    "\n",
    "# find api endpoint for move slash\n",
    "root_url = 'https://pokeapi.co/api/v2/'\n",
    "endpoint = 'move/'\n",
    "move = 'slash'\n",
    "url_ep = root_url + endpoint + move\n",
    "\n",
    "# we send a GET request (as in \"get data\") and store the response in a variable\n",
    "response = requests.get(url_ep)\n",
    "data = response.json()\n",
    "\n",
    "# we get the endpoint for each pokemon that can learn slash\n",
    "# then, we check if they belong to Pokemon red, blue or yellow\n",
    "pokemons = []\n",
    "for pokemon in data[\"learned_by_pokemon\"]:\n",
    "    url_ep = pokemon[\"url\"]\n",
    "    response = requests.get(url_ep)\n",
    "    data = response.json()\n",
    "    print()\n",
    "\n",
    "    for game in data[\"game_indices\"]:\n",
    "        if game[\"version\"][\"name\"] in [\"red\", \"blue\", \"yellow\"]:\n",
    "            pokemons.append(pokemon[\"name\"])\n",
    "            break\n",
    "    count += 1\n",
    "\n",
    "print(f\"There are {len(pokemons)} 1st gen pokemons that can learn the move slash!\")"
   ]
  }
 ],
 "metadata": {
  "kernelspec": {
   "display_name": "Python 3",
   "language": "python",
   "name": "python3"
  },
  "language_info": {
   "codemirror_mode": {
    "name": "ipython",
    "version": 3
   },
   "file_extension": ".py",
   "mimetype": "text/x-python",
   "name": "python",
   "nbconvert_exporter": "python",
   "pygments_lexer": "ipython3",
   "version": "3.13.2"
  }
 },
 "nbformat": 4,
 "nbformat_minor": 5
}
